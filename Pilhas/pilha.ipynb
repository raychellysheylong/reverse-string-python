{
 "cells": [
  {
   "cell_type": "markdown",
   "metadata": {},
   "source": [
    "# Implementação de Pilha\n",
    "\n",
    "Operações básicas da Pilha\n",
    "\n",
    "- push\n",
    "- pop\n",
    "- peek\n",
    "\n",
    "Operações complementares\n",
    "\n",
    "- is_empty"
   ]
  },
  {
   "cell_type": "code",
   "execution_count": 13,
   "metadata": {},
   "outputs": [],
   "source": [
    "# Classes No e Pilha\n",
    "\n",
    "class No:\n",
    "    def __init__(self, valor):\n",
    "        self.valor = valor\n",
    "        self.proximo = None\n",
    "\n",
    "class Pilha:\n",
    "    def __init__(self):\n",
    "        self.topo = None\n",
    "\n",
    "    # Adiciona um elemento no topo da pilha\n",
    "    def push(self, valor):\n",
    "        novo_no = No(valor)\n",
    "        novo_no.proximo = self.topo\n",
    "        self.topo = novo_no\n",
    "\n",
    "    # Remove um elemento do topo da pilha\n",
    "    def pop(self):\n",
    "        if self.topo is not None:\n",
    "            removido = self.topo\n",
    "            self.topo = self.topo.proximo\n",
    "            return removido.valor\n",
    "        raise Exception(\"Pilha vazia.\")\n",
    "\n",
    "    # Acessar o topo da pilha sem realizar a remoção\n",
    "    def peek(self):\n",
    "        if self.topo is not None:\n",
    "            return self.topo.valor\n",
    "        raise Exception(\"Pilha vazia.\")"
   ]
  },
  {
   "cell_type": "code",
   "execution_count": 16,
   "metadata": {},
   "outputs": [],
   "source": [
    "class Pilha(Pilha):\n",
    "    def is_empty(self):\n",
    "        return self.topo is None\n",
    "        \n",
    "        # if self.topo is None:\n",
    "        #     return True\n",
    "        # else:\n",
    "        #     return False"
   ]
  },
  {
   "cell_type": "code",
   "execution_count": 17,
   "metadata": {},
   "outputs": [
    {
     "name": "stdout",
     "output_type": "stream",
     "text": [
      "True\n",
      "False\n",
      "3\n",
      "3\n",
      "2\n"
     ]
    }
   ],
   "source": [
    "pilha = Pilha()\n",
    "print(pilha.is_empty())\n",
    "\n",
    "pilha.push(1)\n",
    "pilha.push(2)\n",
    "pilha.push(3)\n",
    "\n",
    "print(pilha.is_empty())\n",
    "\n",
    "print(pilha.peek())\n",
    "print(pilha.pop())\n",
    "print(pilha.peek())"
   ]
  },
  {
   "cell_type": "code",
   "execution_count": null,
   "metadata": {},
   "outputs": [],
   "source": []
  }
 ],
 "metadata": {
  "kernelspec": {
   "display_name": "gpuTorch",
   "language": "python",
   "name": "python3"
  },
  "language_info": {
   "codemirror_mode": {
    "name": "ipython",
    "version": 3
   },
   "file_extension": ".py",
   "mimetype": "text/x-python",
   "name": "python",
   "nbconvert_exporter": "python",
   "pygments_lexer": "ipython3",
   "version": "3.11.5"
  }
 },
 "nbformat": 4,
 "nbformat_minor": 2
}
